{
  "nbformat": 4,
  "nbformat_minor": 0,
  "metadata": {
    "colab": {
      "provenance": []
    },
    "kernelspec": {
      "name": "python3",
      "display_name": "Python 3"
    },
    "language_info": {
      "name": "python"
    }
  },
  "cells": [
    {
      "cell_type": "code",
      "execution_count": null,
      "metadata": {
        "id": "lGC-htuSrH0I"
      },
      "outputs": [],
      "source": [
        "import pandas as pd\n",
        "import numpy as np\n",
        "import matplotlib.pyplot as plt\n",
        "import seaborn as sns"
      ]
    },
    {
      "cell_type": "code",
      "source": [
        "import pandas as pd\n",
        "from zipfile import ZipFile\n",
        "from io import BytesIO"
      ],
      "metadata": {
        "id": "fydqtsVNsZi7"
      },
      "execution_count": null,
      "outputs": []
    },
    {
      "cell_type": "code",
      "source": [
        "import pandas as pd\n",
        "from zipfile import ZipFile\n",
        "\n",
        "z = ZipFile('/content/names.zip')\n",
        "a = z.namelist()\n",
        "\n",
        "# Filter year files only\n",
        "year_files = [name for name in a if name.endswith('.txt') and name.startswith('yob')]\n",
        "\n",
        "df_list = []\n",
        "\n",
        "for filename in year_files:\n",
        "    try:\n",
        "        # Extract year from file name e.g. 'yob1880.txt' → 1880\n",
        "        year = int(filename[-8:-4])\n",
        "\n",
        "        with z.open(filename) as file:\n",
        "            df = pd.read_csv(file, encoding='utf-8', engine='python', header=None, names=['Name', 'Gender', 'Births'])\n",
        "            df['Year'] = year  # Add year column\n",
        "            df_list.append(df)\n",
        "    except Exception as e:\n",
        "        print(f\"Error reading file {filename}: {e}\")\n",
        "\n",
        "# Combine all into one DataFrame\n",
        "df = pd.concat(df_list, ignore_index=True)\n",
        "display(df.head())"
      ],
      "metadata": {
        "colab": {
          "base_uri": "https://localhost:8080/",
          "height": 1000
        },
        "id": "qr12WcEktptk",
        "outputId": "3ddf73ad-d017-4637-ebf7-12bf93907fc4"
      },
      "execution_count": null,
      "outputs": [
        {
          "output_type": "stream",
          "name": "stdout",
          "text": [
            "Error reading file yob1880.txt: Bad magic number for file header\n",
            "Error reading file yob1881.txt: Bad magic number for file header\n",
            "Error reading file yob1882.txt: Bad magic number for file header\n",
            "Error reading file yob1883.txt: Bad magic number for file header\n",
            "Error reading file yob1884.txt: Bad magic number for file header\n",
            "Error reading file yob1885.txt: Bad magic number for file header\n",
            "Error reading file yob1886.txt: Bad magic number for file header\n",
            "Error reading file yob1887.txt: Bad magic number for file header\n",
            "Error reading file yob1888.txt: Bad magic number for file header\n",
            "Error reading file yob1889.txt: Bad magic number for file header\n",
            "Error reading file yob1890.txt: Bad magic number for file header\n",
            "Error reading file yob1891.txt: Bad magic number for file header\n",
            "Error reading file yob1892.txt: Bad magic number for file header\n",
            "Error reading file yob1893.txt: Bad magic number for file header\n",
            "Error reading file yob1894.txt: Bad magic number for file header\n",
            "Error reading file yob1895.txt: Bad magic number for file header\n",
            "Error reading file yob1896.txt: Bad magic number for file header\n",
            "Error reading file yob1897.txt: Bad magic number for file header\n",
            "Error reading file yob1898.txt: Bad magic number for file header\n",
            "Error reading file yob1899.txt: Bad magic number for file header\n",
            "Error reading file yob1900.txt: Bad magic number for file header\n",
            "Error reading file yob1901.txt: Bad magic number for file header\n",
            "Error reading file yob1902.txt: Bad magic number for file header\n",
            "Error reading file yob1903.txt: Bad magic number for file header\n",
            "Error reading file yob1904.txt: Bad magic number for file header\n",
            "Error reading file yob1905.txt: Bad magic number for file header\n",
            "Error reading file yob1906.txt: Bad magic number for file header\n",
            "Error reading file yob1907.txt: Bad magic number for file header\n",
            "Error reading file yob1908.txt: Bad magic number for file header\n",
            "Error reading file yob1909.txt: Bad magic number for file header\n",
            "Error reading file yob1910.txt: Bad magic number for file header\n",
            "Error reading file yob1911.txt: Bad magic number for file header\n",
            "Error reading file yob1912.txt: Bad magic number for file header\n",
            "Error reading file yob1913.txt: Bad magic number for file header\n",
            "Error reading file yob1914.txt: Bad magic number for file header\n",
            "Error reading file yob1915.txt: Bad magic number for file header\n",
            "Error reading file yob1916.txt: Bad magic number for file header\n",
            "Error reading file yob1917.txt: Bad magic number for file header\n",
            "Error reading file yob1918.txt: Bad magic number for file header\n",
            "Error reading file yob1919.txt: Bad magic number for file header\n",
            "Error reading file yob1920.txt: Bad magic number for file header\n",
            "Error reading file yob1921.txt: Bad magic number for file header\n",
            "Error reading file yob1922.txt: Bad magic number for file header\n",
            "Error reading file yob1923.txt: Bad magic number for file header\n",
            "Error reading file yob1924.txt: Bad magic number for file header\n",
            "Error reading file yob1925.txt: Bad magic number for file header\n",
            "Error reading file yob1926.txt: Bad magic number for file header\n",
            "Error reading file yob1927.txt: Bad magic number for file header\n",
            "Error reading file yob1928.txt: Bad magic number for file header\n",
            "Error reading file yob1929.txt: Bad magic number for file header\n"
          ]
        },
        {
          "output_type": "display_data",
          "data": {
            "text/plain": [
              "       Name Gender  Births  Year\n",
              "0      Mary      F   64153  1930\n",
              "1     Betty      F   38238  1930\n",
              "2   Dorothy      F   30409  1930\n",
              "3     Helen      F   19913  1930\n",
              "4  Margaret      F   18351  1930"
            ],
            "text/html": [
              "\n",
              "  <div id=\"df-a20cda42-6fc6-4656-af4b-050067f43385\" class=\"colab-df-container\">\n",
              "    <div>\n",
              "<style scoped>\n",
              "    .dataframe tbody tr th:only-of-type {\n",
              "        vertical-align: middle;\n",
              "    }\n",
              "\n",
              "    .dataframe tbody tr th {\n",
              "        vertical-align: top;\n",
              "    }\n",
              "\n",
              "    .dataframe thead th {\n",
              "        text-align: right;\n",
              "    }\n",
              "</style>\n",
              "<table border=\"1\" class=\"dataframe\">\n",
              "  <thead>\n",
              "    <tr style=\"text-align: right;\">\n",
              "      <th></th>\n",
              "      <th>Name</th>\n",
              "      <th>Gender</th>\n",
              "      <th>Births</th>\n",
              "      <th>Year</th>\n",
              "    </tr>\n",
              "  </thead>\n",
              "  <tbody>\n",
              "    <tr>\n",
              "      <th>0</th>\n",
              "      <td>Mary</td>\n",
              "      <td>F</td>\n",
              "      <td>64153</td>\n",
              "      <td>1930</td>\n",
              "    </tr>\n",
              "    <tr>\n",
              "      <th>1</th>\n",
              "      <td>Betty</td>\n",
              "      <td>F</td>\n",
              "      <td>38238</td>\n",
              "      <td>1930</td>\n",
              "    </tr>\n",
              "    <tr>\n",
              "      <th>2</th>\n",
              "      <td>Dorothy</td>\n",
              "      <td>F</td>\n",
              "      <td>30409</td>\n",
              "      <td>1930</td>\n",
              "    </tr>\n",
              "    <tr>\n",
              "      <th>3</th>\n",
              "      <td>Helen</td>\n",
              "      <td>F</td>\n",
              "      <td>19913</td>\n",
              "      <td>1930</td>\n",
              "    </tr>\n",
              "    <tr>\n",
              "      <th>4</th>\n",
              "      <td>Margaret</td>\n",
              "      <td>F</td>\n",
              "      <td>18351</td>\n",
              "      <td>1930</td>\n",
              "    </tr>\n",
              "  </tbody>\n",
              "</table>\n",
              "</div>\n",
              "    <div class=\"colab-df-buttons\">\n",
              "\n",
              "  <div class=\"colab-df-container\">\n",
              "    <button class=\"colab-df-convert\" onclick=\"convertToInteractive('df-a20cda42-6fc6-4656-af4b-050067f43385')\"\n",
              "            title=\"Convert this dataframe to an interactive table.\"\n",
              "            style=\"display:none;\">\n",
              "\n",
              "  <svg xmlns=\"http://www.w3.org/2000/svg\" height=\"24px\" viewBox=\"0 -960 960 960\">\n",
              "    <path d=\"M120-120v-720h720v720H120Zm60-500h600v-160H180v160Zm220 220h160v-160H400v160Zm0 220h160v-160H400v160ZM180-400h160v-160H180v160Zm440 0h160v-160H620v160ZM180-180h160v-160H180v160Zm440 0h160v-160H620v160Z\"/>\n",
              "  </svg>\n",
              "    </button>\n",
              "\n",
              "  <style>\n",
              "    .colab-df-container {\n",
              "      display:flex;\n",
              "      gap: 12px;\n",
              "    }\n",
              "\n",
              "    .colab-df-convert {\n",
              "      background-color: #E8F0FE;\n",
              "      border: none;\n",
              "      border-radius: 50%;\n",
              "      cursor: pointer;\n",
              "      display: none;\n",
              "      fill: #1967D2;\n",
              "      height: 32px;\n",
              "      padding: 0 0 0 0;\n",
              "      width: 32px;\n",
              "    }\n",
              "\n",
              "    .colab-df-convert:hover {\n",
              "      background-color: #E2EBFA;\n",
              "      box-shadow: 0px 1px 2px rgba(60, 64, 67, 0.3), 0px 1px 3px 1px rgba(60, 64, 67, 0.15);\n",
              "      fill: #174EA6;\n",
              "    }\n",
              "\n",
              "    .colab-df-buttons div {\n",
              "      margin-bottom: 4px;\n",
              "    }\n",
              "\n",
              "    [theme=dark] .colab-df-convert {\n",
              "      background-color: #3B4455;\n",
              "      fill: #D2E3FC;\n",
              "    }\n",
              "\n",
              "    [theme=dark] .colab-df-convert:hover {\n",
              "      background-color: #434B5C;\n",
              "      box-shadow: 0px 1px 3px 1px rgba(0, 0, 0, 0.15);\n",
              "      filter: drop-shadow(0px 1px 2px rgba(0, 0, 0, 0.3));\n",
              "      fill: #FFFFFF;\n",
              "    }\n",
              "  </style>\n",
              "\n",
              "    <script>\n",
              "      const buttonEl =\n",
              "        document.querySelector('#df-a20cda42-6fc6-4656-af4b-050067f43385 button.colab-df-convert');\n",
              "      buttonEl.style.display =\n",
              "        google.colab.kernel.accessAllowed ? 'block' : 'none';\n",
              "\n",
              "      async function convertToInteractive(key) {\n",
              "        const element = document.querySelector('#df-a20cda42-6fc6-4656-af4b-050067f43385');\n",
              "        const dataTable =\n",
              "          await google.colab.kernel.invokeFunction('convertToInteractive',\n",
              "                                                    [key], {});\n",
              "        if (!dataTable) return;\n",
              "\n",
              "        const docLinkHtml = 'Like what you see? Visit the ' +\n",
              "          '<a target=\"_blank\" href=https://colab.research.google.com/notebooks/data_table.ipynb>data table notebook</a>'\n",
              "          + ' to learn more about interactive tables.';\n",
              "        element.innerHTML = '';\n",
              "        dataTable['output_type'] = 'display_data';\n",
              "        await google.colab.output.renderOutput(dataTable, element);\n",
              "        const docLink = document.createElement('div');\n",
              "        docLink.innerHTML = docLinkHtml;\n",
              "        element.appendChild(docLink);\n",
              "      }\n",
              "    </script>\n",
              "  </div>\n",
              "\n",
              "\n",
              "    <div id=\"df-7a6685d8-2367-480c-9106-33877d63dbfe\">\n",
              "      <button class=\"colab-df-quickchart\" onclick=\"quickchart('df-7a6685d8-2367-480c-9106-33877d63dbfe')\"\n",
              "                title=\"Suggest charts\"\n",
              "                style=\"display:none;\">\n",
              "\n",
              "<svg xmlns=\"http://www.w3.org/2000/svg\" height=\"24px\"viewBox=\"0 0 24 24\"\n",
              "     width=\"24px\">\n",
              "    <g>\n",
              "        <path d=\"M19 3H5c-1.1 0-2 .9-2 2v14c0 1.1.9 2 2 2h14c1.1 0 2-.9 2-2V5c0-1.1-.9-2-2-2zM9 17H7v-7h2v7zm4 0h-2V7h2v10zm4 0h-2v-4h2v4z\"/>\n",
              "    </g>\n",
              "</svg>\n",
              "      </button>\n",
              "\n",
              "<style>\n",
              "  .colab-df-quickchart {\n",
              "      --bg-color: #E8F0FE;\n",
              "      --fill-color: #1967D2;\n",
              "      --hover-bg-color: #E2EBFA;\n",
              "      --hover-fill-color: #174EA6;\n",
              "      --disabled-fill-color: #AAA;\n",
              "      --disabled-bg-color: #DDD;\n",
              "  }\n",
              "\n",
              "  [theme=dark] .colab-df-quickchart {\n",
              "      --bg-color: #3B4455;\n",
              "      --fill-color: #D2E3FC;\n",
              "      --hover-bg-color: #434B5C;\n",
              "      --hover-fill-color: #FFFFFF;\n",
              "      --disabled-bg-color: #3B4455;\n",
              "      --disabled-fill-color: #666;\n",
              "  }\n",
              "\n",
              "  .colab-df-quickchart {\n",
              "    background-color: var(--bg-color);\n",
              "    border: none;\n",
              "    border-radius: 50%;\n",
              "    cursor: pointer;\n",
              "    display: none;\n",
              "    fill: var(--fill-color);\n",
              "    height: 32px;\n",
              "    padding: 0;\n",
              "    width: 32px;\n",
              "  }\n",
              "\n",
              "  .colab-df-quickchart:hover {\n",
              "    background-color: var(--hover-bg-color);\n",
              "    box-shadow: 0 1px 2px rgba(60, 64, 67, 0.3), 0 1px 3px 1px rgba(60, 64, 67, 0.15);\n",
              "    fill: var(--button-hover-fill-color);\n",
              "  }\n",
              "\n",
              "  .colab-df-quickchart-complete:disabled,\n",
              "  .colab-df-quickchart-complete:disabled:hover {\n",
              "    background-color: var(--disabled-bg-color);\n",
              "    fill: var(--disabled-fill-color);\n",
              "    box-shadow: none;\n",
              "  }\n",
              "\n",
              "  .colab-df-spinner {\n",
              "    border: 2px solid var(--fill-color);\n",
              "    border-color: transparent;\n",
              "    border-bottom-color: var(--fill-color);\n",
              "    animation:\n",
              "      spin 1s steps(1) infinite;\n",
              "  }\n",
              "\n",
              "  @keyframes spin {\n",
              "    0% {\n",
              "      border-color: transparent;\n",
              "      border-bottom-color: var(--fill-color);\n",
              "      border-left-color: var(--fill-color);\n",
              "    }\n",
              "    20% {\n",
              "      border-color: transparent;\n",
              "      border-left-color: var(--fill-color);\n",
              "      border-top-color: var(--fill-color);\n",
              "    }\n",
              "    30% {\n",
              "      border-color: transparent;\n",
              "      border-left-color: var(--fill-color);\n",
              "      border-top-color: var(--fill-color);\n",
              "      border-right-color: var(--fill-color);\n",
              "    }\n",
              "    40% {\n",
              "      border-color: transparent;\n",
              "      border-right-color: var(--fill-color);\n",
              "      border-top-color: var(--fill-color);\n",
              "    }\n",
              "    60% {\n",
              "      border-color: transparent;\n",
              "      border-right-color: var(--fill-color);\n",
              "    }\n",
              "    80% {\n",
              "      border-color: transparent;\n",
              "      border-right-color: var(--fill-color);\n",
              "      border-bottom-color: var(--fill-color);\n",
              "    }\n",
              "    90% {\n",
              "      border-color: transparent;\n",
              "      border-bottom-color: var(--fill-color);\n",
              "    }\n",
              "  }\n",
              "</style>\n",
              "\n",
              "      <script>\n",
              "        async function quickchart(key) {\n",
              "          const quickchartButtonEl =\n",
              "            document.querySelector('#' + key + ' button');\n",
              "          quickchartButtonEl.disabled = true;  // To prevent multiple clicks.\n",
              "          quickchartButtonEl.classList.add('colab-df-spinner');\n",
              "          try {\n",
              "            const charts = await google.colab.kernel.invokeFunction(\n",
              "                'suggestCharts', [key], {});\n",
              "          } catch (error) {\n",
              "            console.error('Error during call to suggestCharts:', error);\n",
              "          }\n",
              "          quickchartButtonEl.classList.remove('colab-df-spinner');\n",
              "          quickchartButtonEl.classList.add('colab-df-quickchart-complete');\n",
              "        }\n",
              "        (() => {\n",
              "          let quickchartButtonEl =\n",
              "            document.querySelector('#df-7a6685d8-2367-480c-9106-33877d63dbfe button');\n",
              "          quickchartButtonEl.style.display =\n",
              "            google.colab.kernel.accessAllowed ? 'block' : 'none';\n",
              "        })();\n",
              "      </script>\n",
              "    </div>\n",
              "\n",
              "    </div>\n",
              "  </div>\n"
            ],
            "application/vnd.google.colaboratory.intrinsic+json": {
              "type": "dataframe",
              "summary": "{\n  \"name\": \"display(df\",\n  \"rows\": 5,\n  \"fields\": [\n    {\n      \"column\": \"Name\",\n      \"properties\": {\n        \"dtype\": \"string\",\n        \"num_unique_values\": 5,\n        \"samples\": [\n          \"Betty\",\n          \"Margaret\",\n          \"Dorothy\"\n        ],\n        \"semantic_type\": \"\",\n        \"description\": \"\"\n      }\n    },\n    {\n      \"column\": \"Gender\",\n      \"properties\": {\n        \"dtype\": \"category\",\n        \"num_unique_values\": 1,\n        \"samples\": [\n          \"F\"\n        ],\n        \"semantic_type\": \"\",\n        \"description\": \"\"\n      }\n    },\n    {\n      \"column\": \"Births\",\n      \"properties\": {\n        \"dtype\": \"number\",\n        \"std\": 18595,\n        \"min\": 18351,\n        \"max\": 64153,\n        \"num_unique_values\": 5,\n        \"samples\": [\n          38238\n        ],\n        \"semantic_type\": \"\",\n        \"description\": \"\"\n      }\n    },\n    {\n      \"column\": \"Year\",\n      \"properties\": {\n        \"dtype\": \"number\",\n        \"std\": 0,\n        \"min\": 1930,\n        \"max\": 1930,\n        \"num_unique_values\": 1,\n        \"samples\": [\n          1930\n        ],\n        \"semantic_type\": \"\",\n        \"description\": \"\"\n      }\n    }\n  ]\n}"
            }
          },
          "metadata": {}
        }
      ]
    },
    {
      "cell_type": "code",
      "metadata": {
        "id": "271959c8"
      },
      "source": [
        "\n",
        "z = ZipFile('/content/names.zip')\n",
        "\n",
        "a = z.namelist()"
      ],
      "execution_count": null,
      "outputs": []
    },
    {
      "cell_type": "code",
      "source": [
        "'''Then, visualize the number of male and female babies born in a particular\n",
        "year with the help of pandas. DataFrame.plot, then analyze baby names\n",
        "by sorting out all birth counts'''\n"
      ],
      "metadata": {
        "colab": {
          "base_uri": "https://localhost:8080/",
          "height": 70
        },
        "id": "UiHxC3x4tpv2",
        "outputId": "b4d19768-14c6-4442-99ea-8f295000281f"
      },
      "execution_count": null,
      "outputs": [
        {
          "output_type": "execute_result",
          "data": {
            "text/plain": [
              "'Then, visualize the number of male and female babies born in a particular\\nyear with the help of pandas. DataFrame.plot, then analyze baby names\\nby sorting out all birth counts'"
            ],
            "application/vnd.google.colaboratory.intrinsic+json": {
              "type": "string"
            }
          },
          "metadata": {},
          "execution_count": 11
        }
      ]
    },
    {
      "cell_type": "code",
      "source": [
        "year = 2012\n",
        "data_year = df[df['Year'] == year]\n",
        "\n",
        "sns.barplot(x='Gender', y='Births', data=data_year, estimator=sum, palette=['pink', 'lightblue'])\n",
        "plt.title(f'Number of Male and Female Babies Born in {year}')\n",
        "plt.show()\n"
      ],
      "metadata": {
        "id": "r9r0HfbGtpzb",
        "colab": {
          "base_uri": "https://localhost:8080/",
          "height": 579
        },
        "outputId": "39ccc16c-4297-4dc0-8c9a-8ab0da2c2047"
      },
      "execution_count": null,
      "outputs": [
        {
          "output_type": "stream",
          "name": "stderr",
          "text": [
            "/tmp/ipython-input-3340555461.py:4: FutureWarning: \n",
            "\n",
            "Passing `palette` without assigning `hue` is deprecated and will be removed in v0.14.0. Assign the `x` variable to `hue` and set `legend=False` for the same effect.\n",
            "\n",
            "  sns.barplot(x='Gender', y='Births', data=data_year, estimator=sum, palette=['pink', 'lightblue'])\n"
          ]
        },
        {
          "output_type": "display_data",
          "data": {
            "text/plain": [
              "<Figure size 640x480 with 1 Axes>"
            ],
            "image/png": "[encoded data removed]"
          },
          "metadata": {}
        }
      ]
    },
    {
      "cell_type": "code",
      "source": [
        "top_names = data_year.sort_values(by='Births', ascending=False).head(10)\n",
        "print(top_names)\n"
      ],
      "metadata": {
        "colab": {
          "base_uri": "https://localhost:8080/"
        },
        "id": "k6bTBcILHs5_",
        "outputId": "4d092be7-d175-4ba4-aade-4a86a235a115"
      },
      "execution_count": null,
      "outputs": [
        {
          "output_type": "stream",
          "name": "stdout",
          "text": [
            "             Name Gender  Births  Year\n",
            "1451764    Sophia      F   22335  2012\n",
            "1451765      Emma      F   20972  2012\n",
            "1451766  Isabella      F   19134  2012\n",
            "1471293     Jacob      M   19104  2012\n",
            "1471294     Mason      M   18993  2012\n",
            "1471295     Ethan      M   17694  2012\n",
            "1471296      Noah      M   17378  2012\n",
            "1451767    Olivia      F   17332  2012\n",
            "1471297   William      M   16914  2012\n",
            "1471298      Liam      M   16823  2012\n"
          ]
        }
      ]
    },
    {
      "cell_type": "code",
      "source": [
        "top_overall = df.groupby('Name')['Births'].sum().sort_values(ascending=False).head(10)\n",
        "print(top_overall)\n"
      ],
      "metadata": {
        "colab": {
          "base_uri": "https://localhost:8080/"
        },
        "id": "tB4IAHhWILwt",
        "outputId": "124b2ae5-a17b-4b69-f7a7-3e1a19666c14"
      },
      "execution_count": null,
      "outputs": [
        {
          "output_type": "stream",
          "name": "stdout",
          "text": [
            "Name\n",
            "Michael        4358462\n",
            "James          4299637\n",
            "John           3993803\n",
            "Robert         3959597\n",
            "David          3525758\n",
            "William        3158308\n",
            "Mary           2584287\n",
            "Richard        2261437\n",
            "Joseph         2156695\n",
            "Christopher    2067577\n",
            "Name: Births, dtype: int64\n"
          ]
        }
      ]
    },
    {
      "cell_type": "code",
      "source": [
        "'''Then, analyze baby names by sorting out top 100 birth counts and group\n",
        "them by names to find out popular baby names'''\n"
      ],
      "metadata": {
        "id": "jZTCUGMPInJp"
      },
      "execution_count": null,
      "outputs": []
    },
    {
      "cell_type": "code",
      "source": [
        "name_group = df.groupby('Name')['Births'].sum().reset_index()\n",
        "top_100 = name_group.sort_values(by='Births', ascending=False).head(100)\n",
        "print(top_100)"
      ],
      "metadata": {
        "colab": {
          "base_uri": "https://localhost:8080/"
        },
        "id": "hrGmFiUbInTu",
        "outputId": "632139ac-6834-4f7f-f5cb-ee18899b5d13"
      },
      "execution_count": null,
      "outputs": [
        {
          "output_type": "stream",
          "name": "stdout",
          "text": [
            "            Name   Births\n",
            "65784    Michael  4358462\n",
            "40220      James  4299637\n",
            "44718       John  3993803\n",
            "78264     Robert  3959597\n",
            "22466      David  3525758\n",
            "...          ...      ...\n",
            "99493    Zachary   551335\n",
            "18360  Christine   543992\n",
            "48783  Katherine   542707\n",
            "72196     Olivia   542601\n",
            "75229     Rachel   540295\n",
            "\n",
            "[100 rows x 2 columns]\n"
          ]
        }
      ]
    },
    {
      "cell_type": "code",
      "source": [
        "import matplotlib.pyplot as plt\n",
        "import seaborn as sns\n",
        "\n",
        "top_10 = top_100.head(10)\n",
        "\n",
        "plt.figure(figsize=(10,5))\n",
        "sns.barplot(x='Name', y='Births', data=top_10, palette='magma')\n",
        "plt.title('Top 10 Most Popular Baby Names (All Years)')\n",
        "plt.xticks(rotation=45)\n",
        "plt.show()\n"
      ],
      "metadata": {
        "colab": {
          "base_uri": "https://localhost:8080/",
          "height": 514
        },
        "id": "UwXbmGPSInV-",
        "outputId": "2e4c904f-cbb0-4c12-ee2e-32b79aa8ae49"
      },
      "execution_count": null,
      "outputs": [
        {
          "output_type": "stream",
          "name": "stderr",
          "text": [
            "/tmp/ipython-input-3071175672.py:7: FutureWarning: \n",
            "\n",
            "Passing `palette` without assigning `hue` is deprecated and will be removed in v0.14.0. Assign the `x` variable to `hue` and set `legend=False` for the same effect.\n",
            "\n",
            "  sns.barplot(x='Name', y='Births', data=top_10, palette='magma')\n"
          ]
        },
        {
          "output_type": "display_data",
          "data": {
            "text/plain": [
              "<Figure size 1000x500 with 1 Axes>"
            ],
            "image/png": "[encoded data removed]"
          },
          "metadata": {}
        }
      ]
    },
    {
      "cell_type": "code",
      "source": [
        "gender_group = df.groupby(['Name', 'Gender'])['Births'].sum().reset_index()\n",
        "top_gender = gender_group.sort_values(by='Births', ascending=False).head(100)\n",
        "print(top_gender.head(10))\n",
        "\n"
      ],
      "metadata": {
        "colab": {
          "base_uri": "https://localhost:8080/"
        },
        "id": "ys5L3vp5InYj",
        "outputId": "f0fe0c74-ada4-422c-ba36-827739547b41"
      },
      "execution_count": null,
      "outputs": [
        {
          "output_type": "stream",
          "name": "stdout",
          "text": [
            "               Name Gender   Births\n",
            "73235       Michael      M  4337069\n",
            "44767         James      M  4281249\n",
            "49741          John      M  3978904\n",
            "87122        Robert      M  3944261\n",
            "25034         David      M  3513619\n",
            "107686      William      M  3147139\n",
            "70854          Mary      F  2574458\n",
            "86498       Richard      M  2253547\n",
            "50560        Joseph      M  2148466\n",
            "20446   Christopher      M  2058070\n"
          ]
        }
      ]
    },
    {
      "cell_type": "code",
      "source": [
        "sns.barplot(x='Name', y='Births', hue='Gender', data=top_gender.head(20), palette=['pink', 'lightblue'])\n",
        "plt.title('Top Baby Names by Gender')\n",
        "plt.xticks(rotation=45)\n",
        "plt.show()\n"
      ],
      "metadata": {
        "colab": {
          "base_uri": "https://localhost:8080/",
          "height": 525
        },
        "id": "kHofGo09Inam",
        "outputId": "8da91a69-cdc3-4df3-a6d4-991817a2fd63"
      },
      "execution_count": null,
      "outputs": [
        {
          "output_type": "display_data",
          "data": {
            "text/plain": [
              "<Figure size 640x480 with 1 Axes>"
            ],
            "image/png": "[encoded data removed]"
          },
          "metadata": {}
        }
      ]
    },
    {
      "cell_type": "code",
      "source": [],
      "metadata": {
        "id": "k0IxBqOhIneT"
      },
      "execution_count": null,
      "outputs": []
    }
  ]
}